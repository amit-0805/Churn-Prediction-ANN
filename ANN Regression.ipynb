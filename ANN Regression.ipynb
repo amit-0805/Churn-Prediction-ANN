{
 "cells": [
  {
   "cell_type": "code",
   "execution_count": 2,
   "id": "54f21ef0",
   "metadata": {},
   "outputs": [
    {
     "name": "stdout",
     "output_type": "stream",
     "text": [
      "WARNING:tensorflow:From C:\\Users\\amita\\anaconda\\lib\\site-packages\\keras\\src\\losses.py:2976: The name tf.losses.sparse_softmax_cross_entropy is deprecated. Please use tf.compat.v1.losses.sparse_softmax_cross_entropy instead.\n",
      "\n"
     ]
    }
   ],
   "source": [
    "import pandas as pd\n",
    "import numpy as np\n",
    "import tensorflow as tf"
   ]
  },
  {
   "cell_type": "code",
   "execution_count": 3,
   "id": "fc834b1c",
   "metadata": {},
   "outputs": [
    {
     "data": {
      "text/plain": [
       "'2.15.0'"
      ]
     },
     "execution_count": 3,
     "metadata": {},
     "output_type": "execute_result"
    }
   ],
   "source": [
    "tf.__version__"
   ]
  },
  {
   "cell_type": "code",
   "execution_count": 6,
   "id": "12db5b7e",
   "metadata": {},
   "outputs": [],
   "source": [
    "dataset = pd.read_excel(r\"C:\\Users\\amita\\Desktop\\Deep Learning\\ANN\\Artificial_Neural_Network\\Final Folder\\Dataset\\Folds5x2_pp.xlsx\")"
   ]
  },
  {
   "cell_type": "code",
   "execution_count": 7,
   "id": "c4fe98a7",
   "metadata": {},
   "outputs": [],
   "source": [
    "X = dataset.iloc[:, :-1]\n",
    "y = dataset.iloc[:, -1]"
   ]
  },
  {
   "cell_type": "code",
   "execution_count": 8,
   "id": "791b0d44",
   "metadata": {},
   "outputs": [
    {
     "data": {
      "text/html": [
       "<div>\n",
       "<style scoped>\n",
       "    .dataframe tbody tr th:only-of-type {\n",
       "        vertical-align: middle;\n",
       "    }\n",
       "\n",
       "    .dataframe tbody tr th {\n",
       "        vertical-align: top;\n",
       "    }\n",
       "\n",
       "    .dataframe thead th {\n",
       "        text-align: right;\n",
       "    }\n",
       "</style>\n",
       "<table border=\"1\" class=\"dataframe\">\n",
       "  <thead>\n",
       "    <tr style=\"text-align: right;\">\n",
       "      <th></th>\n",
       "      <th>AT</th>\n",
       "      <th>V</th>\n",
       "      <th>AP</th>\n",
       "      <th>RH</th>\n",
       "      <th>PE</th>\n",
       "    </tr>\n",
       "  </thead>\n",
       "  <tbody>\n",
       "    <tr>\n",
       "      <th>0</th>\n",
       "      <td>14.96</td>\n",
       "      <td>41.76</td>\n",
       "      <td>1024.07</td>\n",
       "      <td>73.17</td>\n",
       "      <td>463.26</td>\n",
       "    </tr>\n",
       "    <tr>\n",
       "      <th>1</th>\n",
       "      <td>25.18</td>\n",
       "      <td>62.96</td>\n",
       "      <td>1020.04</td>\n",
       "      <td>59.08</td>\n",
       "      <td>444.37</td>\n",
       "    </tr>\n",
       "    <tr>\n",
       "      <th>2</th>\n",
       "      <td>5.11</td>\n",
       "      <td>39.40</td>\n",
       "      <td>1012.16</td>\n",
       "      <td>92.14</td>\n",
       "      <td>488.56</td>\n",
       "    </tr>\n",
       "    <tr>\n",
       "      <th>3</th>\n",
       "      <td>20.86</td>\n",
       "      <td>57.32</td>\n",
       "      <td>1010.24</td>\n",
       "      <td>76.64</td>\n",
       "      <td>446.48</td>\n",
       "    </tr>\n",
       "    <tr>\n",
       "      <th>4</th>\n",
       "      <td>10.82</td>\n",
       "      <td>37.50</td>\n",
       "      <td>1009.23</td>\n",
       "      <td>96.62</td>\n",
       "      <td>473.90</td>\n",
       "    </tr>\n",
       "  </tbody>\n",
       "</table>\n",
       "</div>"
      ],
      "text/plain": [
       "      AT      V       AP     RH      PE\n",
       "0  14.96  41.76  1024.07  73.17  463.26\n",
       "1  25.18  62.96  1020.04  59.08  444.37\n",
       "2   5.11  39.40  1012.16  92.14  488.56\n",
       "3  20.86  57.32  1010.24  76.64  446.48\n",
       "4  10.82  37.50  1009.23  96.62  473.90"
      ]
     },
     "execution_count": 8,
     "metadata": {},
     "output_type": "execute_result"
    }
   ],
   "source": [
    "dataset.head()"
   ]
  },
  {
   "cell_type": "code",
   "execution_count": 9,
   "id": "7692968e",
   "metadata": {},
   "outputs": [],
   "source": [
    "from sklearn.model_selection import train_test_split\n",
    "X_train, X_test, y_train, y_test = train_test_split(X, y, test_size = 0.2, random_state = 0)"
   ]
  },
  {
   "cell_type": "code",
   "execution_count": 13,
   "id": "7ddac51d",
   "metadata": {},
   "outputs": [],
   "source": [
    "ann = tf.keras.models.Sequential([\n",
    "    tf.keras.layers.Dense(units=6, activation='relu'),\n",
    "    tf.keras.layers.Dense(units=6, activation='relu'),\n",
    "    tf.keras.layers.Dense(units=1)\n",
    "])\n",
    "# no activation for op layer in classification"
   ]
  },
  {
   "cell_type": "code",
   "execution_count": 14,
   "id": "34c0568f",
   "metadata": {},
   "outputs": [],
   "source": [
    "# ann.add(tf.keras.alayers.Dense(units=6, activation='relu')) can be done like this as well"
   ]
  },
  {
   "cell_type": "code",
   "execution_count": 15,
   "id": "3dcc0d54",
   "metadata": {},
   "outputs": [
    {
     "name": "stdout",
     "output_type": "stream",
     "text": [
      "WARNING:tensorflow:From C:\\Users\\amita\\anaconda\\lib\\site-packages\\keras\\src\\optimizers\\__init__.py:309: The name tf.train.Optimizer is deprecated. Please use tf.compat.v1.train.Optimizer instead.\n",
      "\n"
     ]
    }
   ],
   "source": [
    "ann.compile(optimizer='adam', loss = 'mean_squared_error')\n",
    "# loss for regression is MSE or RMSE"
   ]
  },
  {
   "cell_type": "code",
   "execution_count": 16,
   "id": "c1e9e4c4",
   "metadata": {},
   "outputs": [
    {
     "name": "stdout",
     "output_type": "stream",
     "text": [
      "Epoch 1/100\n",
      "WARNING:tensorflow:From C:\\Users\\amita\\anaconda\\lib\\site-packages\\keras\\src\\utils\\tf_utils.py:492: The name tf.ragged.RaggedTensorValue is deprecated. Please use tf.compat.v1.ragged.RaggedTensorValue instead.\n",
      "\n",
      "240/240 [==============================] - 1s 1ms/step - loss: 26970.8574\n",
      "Epoch 2/100\n",
      "240/240 [==============================] - 0s 948us/step - loss: 344.3756\n",
      "Epoch 3/100\n",
      "240/240 [==============================] - 0s 939us/step - loss: 332.8610\n",
      "Epoch 4/100\n",
      "240/240 [==============================] - 0s 997us/step - loss: 319.0621\n",
      "Epoch 5/100\n",
      "240/240 [==============================] - 0s 1ms/step - loss: 303.2585\n",
      "Epoch 6/100\n",
      "240/240 [==============================] - 0s 983us/step - loss: 285.1343\n",
      "Epoch 7/100\n",
      "240/240 [==============================] - 0s 1ms/step - loss: 265.4399\n",
      "Epoch 8/100\n",
      "240/240 [==============================] - 0s 916us/step - loss: 244.5211\n",
      "Epoch 9/100\n",
      "240/240 [==============================] - 0s 971us/step - loss: 222.2588\n",
      "Epoch 10/100\n",
      "240/240 [==============================] - 0s 1ms/step - loss: 200.2449\n",
      "Epoch 11/100\n",
      "240/240 [==============================] - 0s 930us/step - loss: 178.1389\n",
      "Epoch 12/100\n",
      "240/240 [==============================] - 0s 939us/step - loss: 156.2274\n",
      "Epoch 13/100\n",
      "240/240 [==============================] - 0s 991us/step - loss: 135.2670\n",
      "Epoch 14/100\n",
      "240/240 [==============================] - 0s 960us/step - loss: 115.9615\n",
      "Epoch 15/100\n",
      "240/240 [==============================] - 0s 942us/step - loss: 98.1906\n",
      "Epoch 16/100\n",
      "240/240 [==============================] - 0s 922us/step - loss: 82.7449\n",
      "Epoch 17/100\n",
      "240/240 [==============================] - 0s 915us/step - loss: 69.7634\n",
      "Epoch 18/100\n",
      "240/240 [==============================] - 0s 918us/step - loss: 59.6022\n",
      "Epoch 19/100\n",
      "240/240 [==============================] - 0s 918us/step - loss: 51.9073\n",
      "Epoch 20/100\n",
      "240/240 [==============================] - 0s 981us/step - loss: 46.4063\n",
      "Epoch 21/100\n",
      "240/240 [==============================] - 0s 924us/step - loss: 42.8557\n",
      "Epoch 22/100\n",
      "240/240 [==============================] - 0s 924us/step - loss: 39.5517\n",
      "Epoch 23/100\n",
      "240/240 [==============================] - 0s 1ms/step - loss: 37.9385\n",
      "Epoch 24/100\n",
      "240/240 [==============================] - 0s 1ms/step - loss: 36.2015\n",
      "Epoch 25/100\n",
      "240/240 [==============================] - 0s 1ms/step - loss: 35.1506\n",
      "Epoch 26/100\n",
      "240/240 [==============================] - 0s 944us/step - loss: 34.2509\n",
      "Epoch 27/100\n",
      "240/240 [==============================] - 0s 1ms/step - loss: 33.1891\n",
      "Epoch 28/100\n",
      "240/240 [==============================] - 0s 997us/step - loss: 32.6087\n",
      "Epoch 29/100\n",
      "240/240 [==============================] - 0s 1ms/step - loss: 32.0636\n",
      "Epoch 30/100\n",
      "240/240 [==============================] - 0s 1ms/step - loss: 31.9545\n",
      "Epoch 31/100\n",
      "240/240 [==============================] - 0s 1ms/step - loss: 31.7225\n",
      "Epoch 32/100\n",
      "240/240 [==============================] - 0s 1ms/step - loss: 31.0451\n",
      "Epoch 33/100\n",
      "240/240 [==============================] - 0s 954us/step - loss: 30.5818\n",
      "Epoch 34/100\n",
      "240/240 [==============================] - 0s 978us/step - loss: 30.4414\n",
      "Epoch 35/100\n",
      "240/240 [==============================] - 0s 1ms/step - loss: 29.9090\n",
      "Epoch 36/100\n",
      "240/240 [==============================] - 0s 1ms/step - loss: 30.5971\n",
      "Epoch 37/100\n",
      "240/240 [==============================] - 0s 1ms/step - loss: 29.7414\n",
      "Epoch 38/100\n",
      "240/240 [==============================] - 0s 1ms/step - loss: 29.6443\n",
      "Epoch 39/100\n",
      "240/240 [==============================] - 0s 1ms/step - loss: 29.2508\n",
      "Epoch 40/100\n",
      "240/240 [==============================] - 0s 1ms/step - loss: 29.4903\n",
      "Epoch 41/100\n",
      "240/240 [==============================] - 0s 1ms/step - loss: 28.7068\n",
      "Epoch 42/100\n",
      "240/240 [==============================] - 0s 1ms/step - loss: 28.4650\n",
      "Epoch 43/100\n",
      "240/240 [==============================] - 0s 1ms/step - loss: 28.2341\n",
      "Epoch 44/100\n",
      "240/240 [==============================] - 0s 1ms/step - loss: 28.2808\n",
      "Epoch 45/100\n",
      "240/240 [==============================] - 0s 1ms/step - loss: 28.3293\n",
      "Epoch 46/100\n",
      "240/240 [==============================] - 0s 1ms/step - loss: 27.7676\n",
      "Epoch 47/100\n",
      "240/240 [==============================] - 0s 1ms/step - loss: 27.8024\n",
      "Epoch 48/100\n",
      "240/240 [==============================] - 0s 1ms/step - loss: 28.9292\n",
      "Epoch 49/100\n",
      "240/240 [==============================] - 0s 941us/step - loss: 27.7988\n",
      "Epoch 50/100\n",
      "240/240 [==============================] - 0s 972us/step - loss: 27.7716\n",
      "Epoch 51/100\n",
      "240/240 [==============================] - 0s 987us/step - loss: 27.9245\n",
      "Epoch 52/100\n",
      "240/240 [==============================] - 0s 1ms/step - loss: 27.0816\n",
      "Epoch 53/100\n",
      "240/240 [==============================] - 0s 992us/step - loss: 27.0133\n",
      "Epoch 54/100\n",
      "240/240 [==============================] - 0s 981us/step - loss: 27.6506\n",
      "Epoch 55/100\n",
      "240/240 [==============================] - 0s 980us/step - loss: 27.3875\n",
      "Epoch 56/100\n",
      "240/240 [==============================] - 0s 963us/step - loss: 27.3460\n",
      "Epoch 57/100\n",
      "240/240 [==============================] - 0s 913us/step - loss: 27.9203\n",
      "Epoch 58/100\n",
      "240/240 [==============================] - 0s 908us/step - loss: 27.5356\n",
      "Epoch 59/100\n",
      "240/240 [==============================] - 0s 966us/step - loss: 27.0512\n",
      "Epoch 60/100\n",
      "240/240 [==============================] - 0s 1ms/step - loss: 27.4378\n",
      "Epoch 61/100\n",
      "240/240 [==============================] - 0s 953us/step - loss: 27.1222\n",
      "Epoch 62/100\n",
      "240/240 [==============================] - 0s 975us/step - loss: 27.1244\n",
      "Epoch 63/100\n",
      "240/240 [==============================] - 0s 936us/step - loss: 26.9876\n",
      "Epoch 64/100\n",
      "240/240 [==============================] - 0s 927us/step - loss: 26.6958\n",
      "Epoch 65/100\n",
      "240/240 [==============================] - 0s 941us/step - loss: 26.9918\n",
      "Epoch 66/100\n",
      "240/240 [==============================] - 0s 920us/step - loss: 26.7304\n",
      "Epoch 67/100\n",
      "240/240 [==============================] - 0s 961us/step - loss: 26.8564\n",
      "Epoch 68/100\n",
      "240/240 [==============================] - 0s 973us/step - loss: 26.9106\n",
      "Epoch 69/100\n",
      "240/240 [==============================] - 0s 984us/step - loss: 26.7651\n",
      "Epoch 70/100\n",
      "240/240 [==============================] - 0s 1ms/step - loss: 26.9894\n",
      "Epoch 71/100\n",
      "240/240 [==============================] - 0s 978us/step - loss: 27.7319\n",
      "Epoch 72/100\n",
      "240/240 [==============================] - 0s 981us/step - loss: 27.7071\n",
      "Epoch 73/100\n",
      "240/240 [==============================] - 0s 1ms/step - loss: 26.7093\n",
      "Epoch 74/100\n",
      "240/240 [==============================] - 0s 1ms/step - loss: 26.4726\n",
      "Epoch 75/100\n",
      "240/240 [==============================] - 0s 923us/step - loss: 27.0331\n",
      "Epoch 76/100\n",
      "240/240 [==============================] - 0s 933us/step - loss: 27.4729\n",
      "Epoch 77/100\n",
      "240/240 [==============================] - 0s 904us/step - loss: 27.0210\n",
      "Epoch 78/100\n",
      "240/240 [==============================] - 0s 910us/step - loss: 26.8683\n",
      "Epoch 79/100\n",
      "240/240 [==============================] - 0s 961us/step - loss: 26.7744\n",
      "Epoch 80/100\n",
      "240/240 [==============================] - 0s 954us/step - loss: 26.8062\n",
      "Epoch 81/100\n",
      "240/240 [==============================] - 0s 930us/step - loss: 26.5089\n",
      "Epoch 82/100\n",
      "240/240 [==============================] - 0s 931us/step - loss: 27.7335\n",
      "Epoch 83/100\n",
      "240/240 [==============================] - 0s 927us/step - loss: 26.7539\n",
      "Epoch 84/100\n",
      "240/240 [==============================] - 0s 944us/step - loss: 26.5629\n",
      "Epoch 85/100\n",
      "240/240 [==============================] - 0s 997us/step - loss: 26.9949\n",
      "Epoch 86/100\n",
      "240/240 [==============================] - 0s 936us/step - loss: 27.0416\n",
      "Epoch 87/100\n",
      "240/240 [==============================] - 0s 927us/step - loss: 27.0800\n",
      "Epoch 88/100\n",
      "240/240 [==============================] - 0s 972us/step - loss: 27.1389\n",
      "Epoch 89/100\n",
      "240/240 [==============================] - 0s 911us/step - loss: 26.8237\n",
      "Epoch 90/100\n",
      "240/240 [==============================] - 0s 934us/step - loss: 26.9895\n",
      "Epoch 91/100\n",
      "240/240 [==============================] - 0s 932us/step - loss: 26.4845\n",
      "Epoch 92/100\n",
      "240/240 [==============================] - 0s 920us/step - loss: 26.6807\n",
      "Epoch 93/100\n",
      "240/240 [==============================] - 0s 925us/step - loss: 27.4486\n",
      "Epoch 94/100\n"
     ]
    },
    {
     "name": "stdout",
     "output_type": "stream",
     "text": [
      "240/240 [==============================] - 0s 933us/step - loss: 26.7311\n",
      "Epoch 95/100\n",
      "240/240 [==============================] - 0s 919us/step - loss: 27.0157\n",
      "Epoch 96/100\n",
      "240/240 [==============================] - 0s 945us/step - loss: 27.3020\n",
      "Epoch 97/100\n",
      "240/240 [==============================] - 0s 959us/step - loss: 26.5680\n",
      "Epoch 98/100\n",
      "240/240 [==============================] - 0s 936us/step - loss: 26.9633\n",
      "Epoch 99/100\n",
      "240/240 [==============================] - 0s 919us/step - loss: 27.3971\n",
      "Epoch 100/100\n",
      "240/240 [==============================] - 0s 990us/step - loss: 26.3464\n"
     ]
    },
    {
     "data": {
      "text/plain": [
       "<keras.src.callbacks.History at 0x1d6dbe82fb0>"
      ]
     },
     "execution_count": 16,
     "metadata": {},
     "output_type": "execute_result"
    }
   ],
   "source": [
    "ann.fit(X_train,y_train, batch_size=32, epochs=100)"
   ]
  },
  {
   "cell_type": "code",
   "execution_count": 17,
   "id": "883cbe4d",
   "metadata": {},
   "outputs": [
    {
     "name": "stdout",
     "output_type": "stream",
     "text": [
      "60/60 [==============================] - 0s 782us/step\n"
     ]
    }
   ],
   "source": [
    "y_pred = ann.predict(X_test)"
   ]
  },
  {
   "cell_type": "code",
   "execution_count": 18,
   "id": "58a28488",
   "metadata": {},
   "outputs": [
    {
     "data": {
      "text/plain": [
       "array([[430.8067 ],\n",
       "       [461.91455],\n",
       "       [465.43805],\n",
       "       ...,\n",
       "       [472.61087],\n",
       "       [439.5548 ],\n",
       "       [458.69803]], dtype=float32)"
      ]
     },
     "execution_count": 18,
     "metadata": {},
     "output_type": "execute_result"
    }
   ],
   "source": [
    "y_pred"
   ]
  },
  {
   "cell_type": "code",
   "execution_count": 20,
   "id": "4f1ec9c8",
   "metadata": {},
   "outputs": [
    {
     "name": "stdout",
     "output_type": "stream",
     "text": [
      "[[430.81 431.23]\n",
      " [461.91 460.01]\n",
      " [465.44 461.14]\n",
      " ...\n",
      " [472.61 473.26]\n",
      " [439.55 438.  ]\n",
      " [458.7  463.28]]\n"
     ]
    }
   ],
   "source": [
    "import numpy as np\n",
    "\n",
    "# Ensure y_pred and y_test are converted to NumPy arrays\n",
    "y_pred_np = np.array(y_pred)\n",
    "y_test_np = np.array(y_test)\n",
    "\n",
    "# Set print options for better readability\n",
    "np.set_printoptions(precision=2)\n",
    "\n",
    "# Reshape the arrays and concatenate them\n",
    "print(np.concatenate((y_pred_np.reshape(len(y_pred_np), 1), y_test_np.reshape(len(y_test_np), 1)), axis=1))\n"
   ]
  },
  {
   "cell_type": "code",
   "execution_count": null,
   "id": "642493ad",
   "metadata": {},
   "outputs": [],
   "source": []
  }
 ],
 "metadata": {
  "kernelspec": {
   "display_name": "Python 3 (ipykernel)",
   "language": "python",
   "name": "python3"
  },
  "language_info": {
   "codemirror_mode": {
    "name": "ipython",
    "version": 3
   },
   "file_extension": ".py",
   "mimetype": "text/x-python",
   "name": "python",
   "nbconvert_exporter": "python",
   "pygments_lexer": "ipython3",
   "version": "3.10.9"
  }
 },
 "nbformat": 4,
 "nbformat_minor": 5
}
